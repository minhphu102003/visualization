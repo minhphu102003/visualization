{
 "cells": [
  {
   "cell_type": "markdown",
   "metadata": {},
   "source": [
    "### Read pdf file "
   ]
  },
  {
   "cell_type": "markdown",
   "metadata": {},
   "source": [
    "Import library"
   ]
  },
  {
   "cell_type": "code",
   "execution_count": 15,
   "metadata": {},
   "outputs": [],
   "source": [
    "import pdfplumber\n",
    "from pytesseract import image_to_string\n",
    "from PIL import Image\n",
    "from pytesseract import pytesseract\n",
    "import json"
   ]
  },
  {
   "cell_type": "markdown",
   "metadata": {},
   "source": [
    "#### Để sử dụng được thư viện pytesseract\n",
    "\n",
    "Đầu tiên cần tải `tesseract` <br>\n",
    "[Đường dẫn](https://github.com/UB-Mannheim/tesseract/wiki.) <br>\n",
    "Sau đó cài đặt theo hướng dẫn <br>\n",
    "Sau khi đã cài đặt thành công thêm tesseract vào biến môi trường của máy <br>\n",
    "Chạy `cmd` để kiểm tra cài đặt thành công chưa bằng lệnh <br>\n",
    "`tesseract --version`<br>\n",
    "Sau đó thêm tiếng việt để `tesseract` có thể nhận diện chữ tiếng việt bằng cách <br>\n",
    "[Đường dẫn dữ liệu training vie](https://github.com/tesseract-ocr/tessdata) <br>\n",
    "Dựa vào đường dẫn trên tìm kiếm file có tên **vie.traineddata** <br>\n",
    "Tài xuống và bỏ vào cùng thư mục với `tesseract.exe` <br>\n",
    "Thường thư mục này nằm ở địa chỉ **C:\\Program Files\\Tesseract-OCR\\** trên window <br>"
   ]
  },
  {
   "cell_type": "markdown",
   "metadata": {},
   "source": [
    "Open pdf file"
   ]
  },
  {
   "cell_type": "code",
   "execution_count": 16,
   "metadata": {},
   "outputs": [],
   "source": [
    "data = [] "
   ]
  },
  {
   "cell_type": "code",
   "execution_count": 17,
   "metadata": {},
   "outputs": [
    {
     "name": "stdout",
     "output_type": "stream",
     "text": [
      "Trang 1:\n",
      "Trang 2:\n",
      "Trang 3:\n"
     ]
    }
   ],
   "source": [
    "with pdfplumber.open(\"./DataSet/HSG/01.pdf\") as pdf:\n",
    "    for i, page in enumerate(pdf.pages):\n",
    "        print(f\"Trang {i + 1}:\")\n",
    "        \n",
    "        # Chuyển trang PDF thành ảnh với độ phân giải cao\n",
    "        image = page.to_image(resolution=300).original  # Có thể tăng lên 600 nếu cần\n",
    "        \n",
    "        # Thực hiện OCR với ngôn ngữ tiếng Việt\n",
    "        text = image_to_string(image, lang=\"vie\")  # \"vie\" là mã ngôn ngữ cho tiếng Việt\n",
    "        \n",
    "        # Tách văn bản thành từng dòng\n",
    "        lines = text.splitlines()\n",
    "        \n",
    "        # Lọc và lưu các dòng có chứa ký tự '|'\n",
    "        for line in lines:\n",
    "            if \"|\" in line:  # Kiểm tra nếu dòng chứa ký tự '|'\n",
    "                data.append(line)"
   ]
  },
  {
   "cell_type": "code",
   "execution_count": 18,
   "metadata": {},
   "outputs": [
    {
     "name": "stdout",
     "output_type": "stream",
     "text": [
      "Dữ liệu đã được lưu vào ./01.json\n"
     ]
    }
   ],
   "source": [
    "# Lưu danh sách vào file JSON\n",
    "output_file = \"./01.json\"  # Đường dẫn file JSON đầu ra\n",
    "with open(output_file, \"w\", encoding=\"utf-8\") as json_file:\n",
    "    json.dump(data, json_file, ensure_ascii=False, indent=4)\n",
    "\n",
    "print(f\"Dữ liệu đã được lưu vào {output_file}\")"
   ]
  }
 ],
 "metadata": {
  "kernelspec": {
   "display_name": "Python 3",
   "language": "python",
   "name": "python3"
  },
  "language_info": {
   "codemirror_mode": {
    "name": "ipython",
    "version": 3
   },
   "file_extension": ".py",
   "mimetype": "text/x-python",
   "name": "python",
   "nbconvert_exporter": "python",
   "pygments_lexer": "ipython3",
   "version": "3.12.3"
  }
 },
 "nbformat": 4,
 "nbformat_minor": 2
}
