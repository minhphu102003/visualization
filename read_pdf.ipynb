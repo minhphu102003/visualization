{
 "cells": [
  {
   "cell_type": "markdown",
   "metadata": {},
   "source": [
    "### Read pdf file "
   ]
  },
  {
   "cell_type": "markdown",
   "metadata": {},
   "source": [
    "Import library"
   ]
  },
  {
   "cell_type": "code",
   "execution_count": 9,
   "metadata": {},
   "outputs": [],
   "source": [
    "import pdfplumber\n",
    "from pytesseract import image_to_string\n",
    "from PIL import Image\n",
    "from pytesseract import pytesseract\n",
    "import json"
   ]
  },
  {
   "cell_type": "markdown",
   "metadata": {},
   "source": [
    "#### Để sử dụng được thư viện pytesseract\n",
    "\n",
    "Đầu tiên cần tải `tesseract` <br>\n",
    "[Đường dẫn](https://github.com/UB-Mannheim/tesseract/wiki.) <br>\n",
    "Sau đó cài đặt theo hướng dẫn <br>\n",
    "Sau khi đã cài đặt thành công thêm tesseract vào biến môi trường của máy <br>\n",
    "Chạy `cmd` để kiểm tra cài đặt thành công chưa bằng lệnh <br>\n",
    "`tesseract --version`<br>\n",
    "Sau đó thêm tiếng việt để `tesseract` có thể nhận diện chữ tiếng việt bằng cách <br>\n",
    "[Đường dẫn dữ liệu training vie](https://github.com/tesseract-ocr/tessdata) <br>\n",
    "Dựa vào đường dẫn trên tìm kiếm file có tên **vie.traineddata** <br>\n",
    "Tài xuống và bỏ vào cùng thư mục với `tesseract.exe` <br>\n",
    "Thường thư mục này nằm ở địa chỉ **C:\\Program Files\\Tesseract-OCR\\** trên window <br>"
   ]
  },
  {
   "cell_type": "markdown",
   "metadata": {},
   "source": [
    "Open pdf file"
   ]
  },
  {
   "cell_type": "code",
   "execution_count": 10,
   "metadata": {},
   "outputs": [],
   "source": [
    "data = [] "
   ]
  },
  {
   "cell_type": "markdown",
   "metadata": {},
   "source": [
    "Test read pdf file function"
   ]
  },
  {
   "cell_type": "code",
   "execution_count": 11,
   "metadata": {},
   "outputs": [
    {
     "name": "stdout",
     "output_type": "stream",
     "text": [
      "Trang 1:\n",
      "Trang 2:\n",
      "Trang 3:\n",
      "Trang 4:\n"
     ]
    }
   ],
   "source": [
    "with pdfplumber.open(\"./DataSet/HSG/6.pdf\") as pdf:\n",
    "    for i, page in enumerate(pdf.pages):\n",
    "        print(f\"Trang {i + 1}:\")\n",
    "        \n",
    "        # Chuyển trang PDF thành ảnh với độ phân giải cao\n",
    "        image = page.to_image(resolution=300).original  # Có thể tăng lên 600 nếu cần\n",
    "        \n",
    "        # Thực hiện OCR với ngôn ngữ tiếng Việt\n",
    "        text = image_to_string(image, lang=\"vie\")  # \"vie\" là mã ngôn ngữ cho tiếng Việt\n",
    "        \n",
    "        # Tách văn bản thành từng dòng\n",
    "        lines = text.splitlines()\n",
    "        \n",
    "        # Lọc và lưu các dòng có chứa ký tự '|'\n",
    "        for line in lines:\n",
    "            if \"|\" in line:  # Kiểm tra nếu dòng chứa ký tự '|'\n",
    "                data.append(line)"
   ]
  },
  {
   "cell_type": "code",
   "execution_count": 12,
   "metadata": {},
   "outputs": [
    {
     "name": "stdout",
     "output_type": "stream",
     "text": [
      "Dữ liệu đã được lưu vào ./06.json\n"
     ]
    }
   ],
   "source": [
    "# Lưu danh sách vào file JSON\n",
    "output_file = \"./06.json\"  # Đường dẫn file JSON đầu ra\n",
    "with open(output_file, \"w\", encoding=\"utf-8\") as json_file:\n",
    "    json.dump(data, json_file, ensure_ascii=False, indent=4)\n",
    "\n",
    "print(f\"Dữ liệu đã được lưu vào {output_file}\")"
   ]
  },
  {
   "cell_type": "markdown",
   "metadata": {},
   "source": [
    "Create path for read pdf file "
   ]
  },
  {
   "cell_type": "code",
   "execution_count": 13,
   "metadata": {},
   "outputs": [],
   "source": [
    "PATH = './DataSet/HSG'"
   ]
  },
  {
   "cell_type": "markdown",
   "metadata": {},
   "source": [
    "Create function for read file "
   ]
  },
  {
   "cell_type": "code",
   "execution_count": 14,
   "metadata": {},
   "outputs": [],
   "source": [
    "def extract_lines_from_pdf(path, pdf_number):\n",
    "    try:\n",
    "        # Tạo đường dẫn file PDF dựa trên giá trị đầu vào\n",
    "        pdf_path = f\"{path}/{int(pdf_number)}.pdf\"  # Định dạng thành '06' nếu là số 6\n",
    "\n",
    "        # Kiểm tra nếu file không tồn tại\n",
    "        try:\n",
    "            pdf = pdfplumber.open(pdf_path)\n",
    "        except FileNotFoundError:\n",
    "            print(f\"Không tìm thấy file: {pdf_path}\")\n",
    "            return []\n",
    "\n",
    "        data = []  # Danh sách để lưu các dòng chứa ký tự '|'\n",
    "\n",
    "        with pdf as pdf_file:\n",
    "            for i, page in enumerate(pdf_file.pages):\n",
    "                # Chuyển trang PDF thành ảnh với độ phân giải cao\n",
    "                image = page.to_image(resolution=300).original\n",
    "                # Thực hiện OCR với ngôn ngữ tiếng Việt\n",
    "                text = image_to_string(image, lang=\"vie\")\n",
    "                # Tách văn bản thành từng dòng\n",
    "                lines = text.splitlines()\n",
    "                # Lọc và lưu các dòng có chứa ký tự '|'\n",
    "                for line in lines:\n",
    "                    if \"|\" in line:\n",
    "                        data.append(line)\n",
    "        return data\n",
    "    except Exception as e:\n",
    "        print(f\"Đã xảy ra lỗi: {e}\")\n",
    "        return []"
   ]
  },
  {
   "cell_type": "markdown",
   "metadata": {},
   "source": [
    "Creat write json file"
   ]
  },
  {
   "cell_type": "code",
   "execution_count": 15,
   "metadata": {},
   "outputs": [],
   "source": [
    "def save_to_json_file(file_name, data):\n",
    "    \"\"\"\n",
    "    Ghi dữ liệu vào một file JSON.\n",
    "    Args:\n",
    "        file_name (str): Đường dẫn hoặc tên file JSON cần lưu.\n",
    "        data (any): Dữ liệu cần ghi vào file (thường là dictionary hoặc list).\n",
    "    Returns:\n",
    "        bool: True nếu ghi file thành công, False nếu có lỗi.\n",
    "    \"\"\"\n",
    "    try:\n",
    "        with open(file_name, \"w\", encoding=\"utf-8\") as json_file:\n",
    "            json.dump(data, json_file, ensure_ascii=False, indent=4)\n",
    "        print(f\"Dữ liệu đã được lưu vào {file_name}\")\n",
    "        return True\n",
    "    except Exception as e:\n",
    "        print(f\"Đã xảy ra lỗi khi ghi file: {e}\")\n",
    "        return False"
   ]
  },
  {
   "cell_type": "markdown",
   "metadata": {},
   "source": [
    "Call read and write function"
   ]
  },
  {
   "cell_type": "code",
   "execution_count": 16,
   "metadata": {},
   "outputs": [
    {
     "name": "stdout",
     "output_type": "stream",
     "text": [
      "Xử lý file số 1...\n",
      "Dữ liệu đã được lưu vào ./DataSet/HSG/1.json\n",
      "Đã xử lý và lưu file 1.json thành công.\n",
      "Xử lý file số 2...\n",
      "Dữ liệu đã được lưu vào ./DataSet/HSG/2.json\n",
      "Đã xử lý và lưu file 2.json thành công.\n",
      "Xử lý file số 3...\n",
      "Dữ liệu đã được lưu vào ./DataSet/HSG/3.json\n",
      "Đã xử lý và lưu file 3.json thành công.\n",
      "Xử lý file số 4...\n",
      "Dữ liệu đã được lưu vào ./DataSet/HSG/4.json\n",
      "Đã xử lý và lưu file 4.json thành công.\n",
      "Xử lý file số 5...\n",
      "Dữ liệu đã được lưu vào ./DataSet/HSG/5.json\n",
      "Đã xử lý và lưu file 5.json thành công.\n",
      "Xử lý file số 6...\n",
      "Dữ liệu đã được lưu vào ./DataSet/HSG/6.json\n",
      "Đã xử lý và lưu file 6.json thành công.\n",
      "Xử lý file số 7...\n",
      "Dữ liệu đã được lưu vào ./DataSet/HSG/7.json\n",
      "Đã xử lý và lưu file 7.json thành công.\n",
      "Xử lý file số 8...\n",
      "Dữ liệu đã được lưu vào ./DataSet/HSG/8.json\n",
      "Đã xử lý và lưu file 8.json thành công.\n",
      "Xử lý file số 9...\n",
      "Dữ liệu đã được lưu vào ./DataSet/HSG/9.json\n",
      "Đã xử lý và lưu file 9.json thành công.\n",
      "Xử lý file số 10...\n",
      "Dữ liệu đã được lưu vào ./DataSet/HSG/10.json\n",
      "Đã xử lý và lưu file 10.json thành công.\n",
      "Xử lý file số 11...\n",
      "Dữ liệu đã được lưu vào ./DataSet/HSG/11.json\n",
      "Đã xử lý và lưu file 11.json thành công.\n",
      "Xử lý file số 12...\n",
      "Dữ liệu đã được lưu vào ./DataSet/HSG/12.json\n",
      "Đã xử lý và lưu file 12.json thành công.\n",
      "Xử lý file số 13...\n",
      "Dữ liệu đã được lưu vào ./DataSet/HSG/13.json\n",
      "Đã xử lý và lưu file 13.json thành công.\n",
      "Xử lý file số 14...\n",
      "Dữ liệu đã được lưu vào ./DataSet/HSG/14.json\n",
      "Đã xử lý và lưu file 14.json thành công.\n",
      "Xử lý file số 15...\n",
      "Dữ liệu đã được lưu vào ./DataSet/HSG/15.json\n",
      "Đã xử lý và lưu file 15.json thành công.\n",
      "Xử lý file số 16...\n",
      "Dữ liệu đã được lưu vào ./DataSet/HSG/16.json\n",
      "Đã xử lý và lưu file 16.json thành công.\n",
      "Xử lý file số 17...\n",
      "Dữ liệu đã được lưu vào ./DataSet/HSG/17.json\n",
      "Đã xử lý và lưu file 17.json thành công.\n",
      "Xử lý file số 18...\n",
      "Dữ liệu đã được lưu vào ./DataSet/HSG/18.json\n",
      "Đã xử lý và lưu file 18.json thành công.\n",
      "Xử lý file số 19...\n",
      "Dữ liệu đã được lưu vào ./DataSet/HSG/19.json\n",
      "Đã xử lý và lưu file 19.json thành công.\n",
      "Xử lý file số 20...\n",
      "Dữ liệu đã được lưu vào ./DataSet/HSG/20.json\n",
      "Đã xử lý và lưu file 20.json thành công.\n",
      "Xử lý file số 21...\n",
      "Dữ liệu đã được lưu vào ./DataSet/HSG/21.json\n",
      "Đã xử lý và lưu file 21.json thành công.\n",
      "Xử lý file số 22...\n",
      "Dữ liệu đã được lưu vào ./DataSet/HSG/22.json\n",
      "Đã xử lý và lưu file 22.json thành công.\n",
      "Xử lý file số 23...\n",
      "Dữ liệu đã được lưu vào ./DataSet/HSG/23.json\n",
      "Đã xử lý và lưu file 23.json thành công.\n",
      "Xử lý file số 24...\n",
      "Dữ liệu đã được lưu vào ./DataSet/HSG/24.json\n",
      "Đã xử lý và lưu file 24.json thành công.\n",
      "Xử lý file số 25...\n",
      "Dữ liệu đã được lưu vào ./DataSet/HSG/25.json\n",
      "Đã xử lý và lưu file 25.json thành công.\n",
      "Xử lý file số 26...\n",
      "Dữ liệu đã được lưu vào ./DataSet/HSG/26.json\n",
      "Đã xử lý và lưu file 26.json thành công.\n",
      "Xử lý file số 27...\n",
      "Dữ liệu đã được lưu vào ./DataSet/HSG/27.json\n",
      "Đã xử lý và lưu file 27.json thành công.\n",
      "Xử lý file số 28...\n",
      "Dữ liệu đã được lưu vào ./DataSet/HSG/28.json\n",
      "Đã xử lý và lưu file 28.json thành công.\n",
      "Xử lý file số 29...\n",
      "Dữ liệu đã được lưu vào ./DataSet/HSG/29.json\n",
      "Đã xử lý và lưu file 29.json thành công.\n",
      "Xử lý file số 30...\n",
      "Dữ liệu đã được lưu vào ./DataSet/HSG/30.json\n",
      "Đã xử lý và lưu file 30.json thành công.\n",
      "Xử lý file số 31...\n",
      "Dữ liệu đã được lưu vào ./DataSet/HSG/31.json\n",
      "Đã xử lý và lưu file 31.json thành công.\n",
      "Xử lý file số 32...\n",
      "Dữ liệu đã được lưu vào ./DataSet/HSG/32.json\n",
      "Đã xử lý và lưu file 32.json thành công.\n",
      "Xử lý file số 33...\n",
      "Dữ liệu đã được lưu vào ./DataSet/HSG/33.json\n",
      "Đã xử lý và lưu file 33.json thành công.\n",
      "Xử lý file số 34...\n",
      "Dữ liệu đã được lưu vào ./DataSet/HSG/34.json\n",
      "Đã xử lý và lưu file 34.json thành công.\n",
      "Xử lý file số 35...\n",
      "Dữ liệu đã được lưu vào ./DataSet/HSG/35.json\n",
      "Đã xử lý và lưu file 35.json thành công.\n",
      "Xử lý file số 36...\n",
      "Dữ liệu đã được lưu vào ./DataSet/HSG/36.json\n",
      "Đã xử lý và lưu file 36.json thành công.\n",
      "Xử lý file số 37...\n",
      "Dữ liệu đã được lưu vào ./DataSet/HSG/37.json\n",
      "Đã xử lý và lưu file 37.json thành công.\n",
      "Xử lý file số 38...\n",
      "Dữ liệu đã được lưu vào ./DataSet/HSG/38.json\n",
      "Đã xử lý và lưu file 38.json thành công.\n",
      "Xử lý file số 39...\n",
      "Dữ liệu đã được lưu vào ./DataSet/HSG/39.json\n",
      "Đã xử lý và lưu file 39.json thành công.\n",
      "Xử lý file số 40...\n",
      "Dữ liệu đã được lưu vào ./DataSet/HSG/40.json\n",
      "Đã xử lý và lưu file 40.json thành công.\n",
      "Xử lý file số 41...\n",
      "Dữ liệu đã được lưu vào ./DataSet/HSG/41.json\n",
      "Đã xử lý và lưu file 41.json thành công.\n",
      "Xử lý file số 42...\n",
      "Dữ liệu đã được lưu vào ./DataSet/HSG/42.json\n",
      "Đã xử lý và lưu file 42.json thành công.\n",
      "Xử lý file số 43...\n",
      "Dữ liệu đã được lưu vào ./DataSet/HSG/43.json\n",
      "Đã xử lý và lưu file 43.json thành công.\n",
      "Xử lý file số 44...\n",
      "Dữ liệu đã được lưu vào ./DataSet/HSG/44.json\n",
      "Đã xử lý và lưu file 44.json thành công.\n",
      "Xử lý file số 45...\n",
      "Dữ liệu đã được lưu vào ./DataSet/HSG/45.json\n",
      "Đã xử lý và lưu file 45.json thành công.\n",
      "Xử lý file số 46...\n",
      "Dữ liệu đã được lưu vào ./DataSet/HSG/46.json\n",
      "Đã xử lý và lưu file 46.json thành công.\n",
      "Xử lý file số 47...\n",
      "Dữ liệu đã được lưu vào ./DataSet/HSG/47.json\n",
      "Đã xử lý và lưu file 47.json thành công.\n",
      "Xử lý file số 48...\n",
      "Dữ liệu đã được lưu vào ./DataSet/HSG/48.json\n",
      "Đã xử lý và lưu file 48.json thành công.\n",
      "Xử lý file số 49...\n",
      "Dữ liệu đã được lưu vào ./DataSet/HSG/49.json\n",
      "Đã xử lý và lưu file 49.json thành công.\n",
      "Xử lý file số 50...\n",
      "Dữ liệu đã được lưu vào ./DataSet/HSG/50.json\n",
      "Đã xử lý và lưu file 50.json thành công.\n",
      "Xử lý file số 51...\n",
      "Dữ liệu đã được lưu vào ./DataSet/HSG/51.json\n",
      "Đã xử lý và lưu file 51.json thành công.\n",
      "Xử lý file số 52...\n",
      "Dữ liệu đã được lưu vào ./DataSet/HSG/52.json\n",
      "Đã xử lý và lưu file 52.json thành công.\n",
      "Xử lý file số 53...\n",
      "Dữ liệu đã được lưu vào ./DataSet/HSG/53.json\n",
      "Đã xử lý và lưu file 53.json thành công.\n",
      "Xử lý file số 54...\n",
      "Dữ liệu đã được lưu vào ./DataSet/HSG/54.json\n",
      "Đã xử lý và lưu file 54.json thành công.\n",
      "Xử lý file số 55...\n",
      "Dữ liệu đã được lưu vào ./DataSet/HSG/55.json\n",
      "Đã xử lý và lưu file 55.json thành công.\n",
      "Xử lý file số 56...\n",
      "Dữ liệu đã được lưu vào ./DataSet/HSG/56.json\n",
      "Đã xử lý và lưu file 56.json thành công.\n",
      "Xử lý file số 57...\n",
      "Dữ liệu đã được lưu vào ./DataSet/HSG/57.json\n",
      "Đã xử lý và lưu file 57.json thành công.\n",
      "Xử lý file số 58...\n",
      "Dữ liệu đã được lưu vào ./DataSet/HSG/58.json\n",
      "Đã xử lý và lưu file 58.json thành công.\n",
      "Xử lý file số 59...\n",
      "Dữ liệu đã được lưu vào ./DataSet/HSG/59.json\n",
      "Đã xử lý và lưu file 59.json thành công.\n",
      "Xử lý file số 60...\n",
      "Dữ liệu đã được lưu vào ./DataSet/HSG/60.json\n",
      "Đã xử lý và lưu file 60.json thành công.\n",
      "Xử lý file số 61...\n",
      "Dữ liệu đã được lưu vào ./DataSet/HSG/61.json\n",
      "Đã xử lý và lưu file 61.json thành công.\n",
      "Xử lý file số 62...\n",
      "Dữ liệu đã được lưu vào ./DataSet/HSG/62.json\n",
      "Đã xử lý và lưu file 62.json thành công.\n",
      "Xử lý file số 63...\n",
      "Dữ liệu đã được lưu vào ./DataSet/HSG/63.json\n",
      "Đã xử lý và lưu file 63.json thành công.\n",
      "Xử lý file số 64...\n",
      "Không tìm thấy file: ./DataSet/HSG/64.pdf\n",
      "Không có dữ liệu phù hợp trong file PDF 64.\n",
      "Xử lý file số 65...\n",
      "Dữ liệu đã được lưu vào ./DataSet/HSG/65.json\n",
      "Đã xử lý và lưu file 65.json thành công.\n",
      "Xử lý file số 66...\n",
      "Dữ liệu đã được lưu vào ./DataSet/HSG/66.json\n",
      "Đã xử lý và lưu file 66.json thành công.\n",
      "Xử lý file số 67...\n",
      "Dữ liệu đã được lưu vào ./DataSet/HSG/67.json\n",
      "Đã xử lý và lưu file 67.json thành công.\n",
      "Xử lý file số 68...\n",
      "Dữ liệu đã được lưu vào ./DataSet/HSG/68.json\n",
      "Đã xử lý và lưu file 68.json thành công.\n",
      "Xử lý file số 69...\n",
      "Dữ liệu đã được lưu vào ./DataSet/HSG/69.json\n",
      "Đã xử lý và lưu file 69.json thành công.\n"
     ]
    }
   ],
   "source": [
    "for pdf_number in range(1, 70):  # Từ 1 đến 69 (bao gồm cả 69)\n",
    "    print(f\"Xử lý file số {pdf_number}...\")\n",
    "\n",
    "    # Gọi hàm extract_lines_from_pdf để trích xuất dữ liệu\n",
    "    data = extract_lines_from_pdf(PATH, pdf_number)\n",
    "\n",
    "    if data:  # Chỉ lưu nếu có dữ liệu\n",
    "        # Tạo tên file JSON đầu ra dựa trên số PDF\n",
    "        output_file = f\"./DataSet/HSG/{pdf_number}.json\"\n",
    "\n",
    "        # Gọi hàm save_to_json_file để lưu dữ liệu\n",
    "        success = save_to_json_file(output_file, data)\n",
    "\n",
    "        if success:\n",
    "            print(f\"Đã xử lý và lưu file {pdf_number}.json thành công.\")\n",
    "        else:\n",
    "            print(f\"Đã xảy ra lỗi khi lưu file {pdf_number}.json.\")\n",
    "    else:\n",
    "        print(f\"Không có dữ liệu phù hợp trong file PDF {pdf_number}.\")"
   ]
  }
 ],
 "metadata": {
  "kernelspec": {
   "display_name": "Python 3",
   "language": "python",
   "name": "python3"
  },
  "language_info": {
   "codemirror_mode": {
    "name": "ipython",
    "version": 3
   },
   "file_extension": ".py",
   "mimetype": "text/x-python",
   "name": "python",
   "nbconvert_exporter": "python",
   "pygments_lexer": "ipython3",
   "version": "3.12.3"
  }
 },
 "nbformat": 4,
 "nbformat_minor": 2
}
